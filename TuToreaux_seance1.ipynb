{
 "cells": [
  {
   "cell_type": "markdown",
   "metadata": {},
   "source": [
    "## Exercice 1\n",
    "\n",
    "Soit les variables : <br>\n",
    "number1 = 20 <br>\n",
    "number2 = 30 <br>\n",
    "\n",
    "En utilisant les deux variables ci-dessus et la fonction **print**, affichez le message : \"Le résultat est : 600\""
   ]
  },
  {
   "cell_type": "code",
   "execution_count": null,
   "metadata": {},
   "outputs": [],
   "source": [
    "# vous pouvez répondre ici"
   ]
  },
  {
   "cell_type": "markdown",
   "metadata": {},
   "source": [
    "## Exercice 2\n",
    "\n",
    "Soit les variables : <br>\n",
    "taureaux = 150 <br>\n",
    "fintech = 50 <br>\n",
    "\n",
    "En utilisant les deux variables ci-dessus et la fonction **print**, affichez le message : \"100 membres de l'association se sont trompés de pôle\""
   ]
  },
  {
   "cell_type": "code",
   "execution_count": null,
   "metadata": {},
   "outputs": [],
   "source": [
    "# vous avez compris l'idée"
   ]
  },
  {
   "cell_type": "markdown",
   "metadata": {},
   "source": [
    "## Exercice 3 \n",
    "\n",
    "Soit la variable : <br>\n",
    "asso = Toro\n",
    "\n",
    "En utilisant UNIQUEMENT la variable asso sans la modifier, affichez le message : \"Zoro\""
   ]
  },
  {
   "cell_type": "code",
   "execution_count": null,
   "metadata": {},
   "outputs": [],
   "source": []
  },
  {
   "cell_type": "markdown",
   "metadata": {},
   "source": [
    "## Exercice 4 \n",
    "\n",
    "Modifier la cellule ci-dessous:\n",
    "\n",
    "Avec **print**, affichez votre âge actuel en créant **une seule autre variable**.\n",
    "\n"
   ]
  },
  {
   "cell_type": "code",
   "execution_count": 15,
   "metadata": {},
   "outputs": [],
   "source": [
    "## Exercice 4\n",
    "from datetime import date\n",
    "current_date = date.today() \n",
    "annee = current_date.year"
   ]
  },
  {
   "cell_type": "markdown",
   "metadata": {},
   "source": [
    "## Exercice 5\n",
    "\n",
    "Comment vérifier le type d'une variable ?"
   ]
  },
  {
   "cell_type": "code",
   "execution_count": null,
   "metadata": {},
   "outputs": [],
   "source": []
  },
  {
   "cell_type": "markdown",
   "metadata": {},
   "source": [
    "## Présentation\n",
    "\n",
    "Input : <br>\n",
    "Lancez le code ci-dessous pour (re)découvrir la fonction input()\n"
   ]
  },
  {
   "cell_type": "code",
   "execution_count": null,
   "metadata": {},
   "outputs": [],
   "source": [
    "print(\"Bienvenue à mon premier jeux!\")\n",
    "nom = input(\"Qui es-tu ?\")\n",
    "age = input(\"Quel âge as-tu ?\")\n",
    "\n",
    "print(\"Bonjour\", nom, \"tu as\", age, \"ans.\")"
   ]
  },
  {
   "cell_type": "markdown",
   "metadata": {},
   "source": [
    "## Exercice 6\n",
    "\n",
    "**Déclarez deux variables**:<br>\n",
    "    une integer<br>\n",
    "    une float\n",
    "\n",
    "**Convertissez**:<br>\n",
    "    l'integer en float<br>\n",
    "    la float en integer\n",
    "    \n",
    "Puis déclarez une variable somme des deux, affichez cette variable et son type.\n",
    "    "
   ]
  },
  {
   "cell_type": "code",
   "execution_count": null,
   "metadata": {},
   "outputs": [],
   "source": []
  },
  {
   "cell_type": "markdown",
   "metadata": {},
   "source": [
    "## Exercice 7\n",
    "\n",
    "Écris un programme Python qui affiche uniquement la première et la dernière couleurs de cette liste"
   ]
  },
  {
   "cell_type": "code",
   "execution_count": 26,
   "metadata": {},
   "outputs": [],
   "source": [
    "liste_couleur = [\"Rouge\", \"Vert\", \"Blanc\", \"Noir\"]"
   ]
  },
  {
   "cell_type": "markdown",
   "metadata": {},
   "source": [
    "## Exercice 8\n",
    "\n",
    "Écris un programme Python qui accepte un entier n et affiche la valeur : $n+\\frac{n}{n^{2}}+n^{3}$"
   ]
  },
  {
   "cell_type": "markdown",
   "metadata": {},
   "source": [
    "## Exercice 9 \n",
    "\n",
    "Comment calculer robustement la moyenne d'une liste ?"
   ]
  },
  {
   "cell_type": "code",
   "execution_count": 34,
   "metadata": {},
   "outputs": [],
   "source": [
    "participants = [23,35,15,89,67,89]"
   ]
  },
  {
   "cell_type": "markdown",
   "metadata": {},
   "source": [
    "## Exercice 10\n",
    "\n",
    "A l'aide d'une boucle calculer la variance de l'âge des participants $\\sigma^2 = \\frac{\\displaystyle\\sum_{i=1}^{n}(x_i - \\mu)^2} {n}$ :"
   ]
  },
  {
   "cell_type": "code",
   "execution_count": 18,
   "metadata": {},
   "outputs": [],
   "source": [
    "participants = [23,35,15,89,67,89]"
   ]
  }
 ],
 "metadata": {
  "kernelspec": {
   "display_name": "Python 3.8.5 64-bit",
   "language": "python",
   "name": "python38564bitb903eb77adf946f894531f03b7146de8"
  },
  "language_info": {
   "codemirror_mode": {
    "name": "ipython",
    "version": 3
   },
   "file_extension": ".py",
   "mimetype": "text/x-python",
   "name": "python",
   "nbconvert_exporter": "python",
   "pygments_lexer": "ipython3",
   "version": "3.8.5"
  }
 },
 "nbformat": 4,
 "nbformat_minor": 4
}
